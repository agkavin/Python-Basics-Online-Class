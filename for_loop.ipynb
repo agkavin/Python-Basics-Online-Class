{
 "cells": [
  {
   "cell_type": "markdown",
   "id": "5775b40d",
   "metadata": {},
   "source": [
    "## What is For Loop?"
   ]
  },
  {
   "cell_type": "markdown",
   "id": "e7c37fb9",
   "metadata": {},
   "source": [
    "Python for loops let you \"loop through\" an iterable object (such as a list, tuple, or set), processing one item at a time. "
   ]
  },
  {
   "cell_type": "markdown",
   "id": "8a77e92c",
   "metadata": {},
   "source": [
    "iterators : list, tuple, string, range, dictionary, set"
   ]
  },
  {
   "cell_type": "markdown",
   "id": "bc263f98",
   "metadata": {},
   "source": [
    "![for loop flow](./for.jpg)\n"
   ]
  },
  {
   "cell_type": "code",
   "execution_count": 6,
   "id": "c0d76936",
   "metadata": {},
   "outputs": [
    {
     "name": "stdout",
     "output_type": "stream",
     "text": [
      "i am sorry\n",
      "i am sorry\n"
     ]
    }
   ],
   "source": [
    "t = \"i am sorry\"\n",
    "for i in range(2):\n",
    "    print(\"i am sorry\")"
   ]
  },
  {
   "cell_type": "markdown",
   "id": "05e3f42a",
   "metadata": {},
   "source": [
    "## For loop on Different iterative objects "
   ]
  },
  {
   "cell_type": "markdown",
   "id": "4c201613",
   "metadata": {},
   "source": [
    "### List"
   ]
  },
  {
   "cell_type": "code",
   "execution_count": 9,
   "id": "db6e6e77",
   "metadata": {},
   "outputs": [
    {
     "name": "stdout",
     "output_type": "stream",
     "text": [
      "grape\n",
      "banana\n",
      "cherry\n"
     ]
    }
   ],
   "source": [
    "fruits = ['apple', 'banana', 'cherry']\n",
    "fruits[0] = \"grape\"\n",
    "for fruit in fruits:\n",
    "    print(fruit)"
   ]
  },
  {
   "cell_type": "markdown",
   "id": "f4ff3f3b",
   "metadata": {},
   "source": [
    "### Tuple"
   ]
  },
  {
   "cell_type": "code",
   "execution_count": 8,
   "id": "b294daf4",
   "metadata": {},
   "outputs": [
    {
     "name": "stdout",
     "output_type": "stream",
     "text": [
      "red\n",
      "green\n",
      "blue\n"
     ]
    }
   ],
   "source": [
    "colors = ('red', 'green', 'blue')\n",
    "for color in colors:\n",
    "    print(color)"
   ]
  },
  {
   "cell_type": "markdown",
   "id": "62953962",
   "metadata": {},
   "source": [
    "### String"
   ]
  },
  {
   "cell_type": "code",
   "execution_count": 10,
   "id": "b1df6f98",
   "metadata": {},
   "outputs": [
    {
     "name": "stdout",
     "output_type": "stream",
     "text": [
      "h\n",
      "e\n",
      "l\n",
      "l\n",
      "o\n"
     ]
    }
   ],
   "source": [
    "word = \"hello\"\n",
    "for char in word:\n",
    "    print(char)\n"
   ]
  },
  {
   "cell_type": "markdown",
   "id": "f76c8dea",
   "metadata": {},
   "source": [
    "### Dictionary"
   ]
  },
  {
   "cell_type": "code",
   "execution_count": 12,
   "id": "dc640d6a",
   "metadata": {},
   "outputs": [
    {
     "name": "stdout",
     "output_type": "stream",
     "text": [
      "name Alice\n",
      "age 25\n"
     ]
    }
   ],
   "source": [
    "person = {'name': 'Alice', 'age': 25}\n",
    "for key in person:\n",
    "    print(key, person[key])\n"
   ]
  },
  {
   "cell_type": "markdown",
   "id": "69a934d3",
   "metadata": {},
   "source": [
    "## Range"
   ]
  },
  {
   "cell_type": "markdown",
   "id": "269a9f7b",
   "metadata": {},
   "source": [
    "range() is a built-in Python function that generates a sequence of numbers, commonly used in for loops.\n",
    "\n",
    "range(stop)\n",
    "range(start, stop)\n",
    "range(start, stop, step)"
   ]
  },
  {
   "cell_type": "code",
   "execution_count": 14,
   "id": "3472d710",
   "metadata": {},
   "outputs": [
    {
     "name": "stdout",
     "output_type": "stream",
     "text": [
      "0\n",
      "1\n",
      "2\n",
      "3\n",
      "4\n"
     ]
    }
   ],
   "source": [
    "# Example 1: range(stop)\n",
    "for i in range(5):\n",
    "    print(i)"
   ]
  },
  {
   "cell_type": "code",
   "execution_count": 13,
   "id": "7765e120",
   "metadata": {},
   "outputs": [
    {
     "name": "stdout",
     "output_type": "stream",
     "text": [
      "2\n",
      "3\n",
      "4\n",
      "5\n"
     ]
    }
   ],
   "source": [
    "# Example 2: range(start, stop)\n",
    "for i in range(2, 6):\n",
    "    print(i)"
   ]
  },
  {
   "cell_type": "code",
   "execution_count": 16,
   "id": "70a35986",
   "metadata": {},
   "outputs": [
    {
     "name": "stdout",
     "output_type": "stream",
     "text": [
      "1\n",
      "3\n",
      "5\n",
      "7\n",
      "9\n"
     ]
    }
   ],
   "source": [
    "# Example 3: range(start, stop, step)\n",
    "for i in range(1, 11, 2):\n",
    "    print(i)"
   ]
  },
  {
   "cell_type": "code",
   "execution_count": 17,
   "id": "937413ef",
   "metadata": {},
   "outputs": [
    {
     "name": "stdout",
     "output_type": "stream",
     "text": [
      "5\n",
      "4\n",
      "3\n",
      "2\n",
      "1\n"
     ]
    }
   ],
   "source": [
    "# Example 4: range with negative step\n",
    "for i in range(5, 0, -1):\n",
    "    print(i)"
   ]
  },
  {
   "cell_type": "code",
   "execution_count": 18,
   "id": "e3c38496",
   "metadata": {},
   "outputs": [],
   "source": [
    "# Example 5: empty range\n",
    "for i in range(10, 5):\n",
    "    print(i)"
   ]
  },
  {
   "cell_type": "code",
   "execution_count": 21,
   "id": "a5f56179",
   "metadata": {},
   "outputs": [
    {
     "name": "stdout",
     "output_type": "stream",
     "text": [
      "0 a\n",
      "1 b\n",
      "2 c\n"
     ]
    }
   ],
   "source": [
    "items = ['a', 'b', 'c']\n",
    "l = len(items) # 3\n",
    "for i in range(l):\n",
    "    print(i, items[i])"
   ]
  },
  {
   "cell_type": "markdown",
   "id": "b1e63f7c",
   "metadata": {},
   "source": [
    "### len() with range()"
   ]
  },
  {
   "cell_type": "markdown",
   "id": "0f9660b4",
   "metadata": {},
   "source": [
    " You can use len() to count how many items a range will produce."
   ]
  },
  {
   "cell_type": "code",
   "execution_count": 20,
   "id": "21cb8e28",
   "metadata": {},
   "outputs": [
    {
     "name": "stdout",
     "output_type": "stream",
     "text": [
      "2\n",
      "4\n",
      "6\n",
      "8\n"
     ]
    }
   ],
   "source": [
    "r = range(2, 10, 2)\n",
    "for i in range(len(r)):\n",
    "    print(r[i])\n"
   ]
  },
  {
   "cell_type": "markdown",
   "id": "1976a171",
   "metadata": {},
   "source": [
    "### Membership test using in"
   ]
  },
  {
   "cell_type": "markdown",
   "id": "e80e645f",
   "metadata": {},
   "source": [
    "Use in or not in to check if a number is in a range efficiently."
   ]
  },
  {
   "cell_type": "code",
   "execution_count": 25,
   "id": "1d2fe2e3",
   "metadata": {},
   "outputs": [
    {
     "name": "stdout",
     "output_type": "stream",
     "text": [
      "not in the range!\n"
     ]
    }
   ],
   "source": [
    "if 10 in range(1, 10):\n",
    "    print(\"is in the range!\")\n",
    "else:\n",
    "    print(\"not in the range!\")"
   ]
  },
  {
   "cell_type": "markdown",
   "id": "b17b8055",
   "metadata": {},
   "source": [
    "### Convert range() to generate a sequence"
   ]
  },
  {
   "cell_type": "markdown",
   "id": "05284ca5",
   "metadata": {},
   "source": [
    "Convert a range to a list or tuple to view the full sequence."
   ]
  },
  {
   "cell_type": "code",
   "execution_count": 26,
   "id": "94fb257e",
   "metadata": {},
   "outputs": [
    {
     "name": "stdout",
     "output_type": "stream",
     "text": [
      "[1, 2, 3, 4, 5]\n"
     ]
    }
   ],
   "source": [
    "sequence = list(range(1, 6))\n",
    "print(sequence)\n",
    "\n"
   ]
  },
  {
   "cell_type": "markdown",
   "id": "d8af9dce",
   "metadata": {},
   "source": [
    "## For Loop in Different Places"
   ]
  },
  {
   "cell_type": "code",
   "execution_count": null,
   "id": "f699938e",
   "metadata": {},
   "outputs": [
    {
     "name": "stdout",
     "output_type": "stream",
     "text": [
      "1 2 3 4 5 6 7 8 9 "
     ]
    }
   ],
   "source": [
    "# Matrix\n",
    "matrix = [\n",
    "    [1, 2, 3],\n",
    "    [4, 5, 6],\n",
    "    [7, 8, 9]\n",
    "]\n",
    "\n",
    "for row in matrix:\n",
    "    for element in row:\n",
    "        print(element, end=',')\n",
    "    print()\n"
   ]
  },
  {
   "cell_type": "code",
   "execution_count": 38,
   "id": "b8869994",
   "metadata": {},
   "outputs": [
    {
     "name": "stdout",
     "output_type": "stream",
     "text": [
      "* \n",
      "* * \n",
      "* * * \n",
      "* * * * \n",
      "* * * * * \n"
     ]
    }
   ],
   "source": [
    "# pyramid\n",
    "rows = 5\n",
    "for i in range(1, rows + 1):\n",
    "    print('* ' * i)"
   ]
  },
  {
   "cell_type": "code",
   "execution_count": 60,
   "id": "2d7963fe",
   "metadata": {},
   "outputs": [
    {
     "name": "stdout",
     "output_type": "stream",
     "text": [
      "[]\n"
     ]
    }
   ],
   "source": [
    "print(list(range(0)))"
   ]
  },
  {
   "cell_type": "code",
   "execution_count": 63,
   "id": "3be5b1de",
   "metadata": {},
   "outputs": [
    {
     "data": {
      "text/plain": [
       "[]"
      ]
     },
     "execution_count": 63,
     "metadata": {},
     "output_type": "execute_result"
    }
   ],
   "source": [
    "list(range(1, 10, -1))"
   ]
  },
  {
   "cell_type": "code",
   "execution_count": 39,
   "id": "83b4fe57",
   "metadata": {},
   "outputs": [
    {
     "name": "stdout",
     "output_type": "stream",
     "text": [
      "* * * * * \n",
      "* * * * \n",
      "* * * \n",
      "* * \n",
      "* \n"
     ]
    }
   ],
   "source": [
    "# reverse pyramid\n",
    "rows = 5\n",
    "for i in range(rows, 0, -1):\n",
    "    print('* ' * i)\n"
   ]
  },
  {
   "cell_type": "code",
   "execution_count": 58,
   "id": "b94b0c32",
   "metadata": {},
   "outputs": [
    {
     "data": {
      "text/plain": [
       "[5, 4, 3, 2, 1]"
      ]
     },
     "execution_count": 58,
     "metadata": {},
     "output_type": "execute_result"
    }
   ],
   "source": [
    "list(range(5, 0, -1))"
   ]
  },
  {
   "cell_type": "code",
   "execution_count": 49,
   "id": "e65c19cd",
   "metadata": {},
   "outputs": [
    {
     "name": "stdout",
     "output_type": "stream",
     "text": [
      "1\n",
      "2\n",
      "3\n",
      "4\n",
      "5\n"
     ]
    }
   ],
   "source": [
    "for i in range(1, 11):\n",
    "    print(i)\n",
    "    if i == 5:\n",
    "        break\n",
    "else:\n",
    "    print(\"Loop completed\")"
   ]
  },
  {
   "cell_type": "code",
   "execution_count": null,
   "id": "26224890",
   "metadata": {},
   "outputs": [
    {
     "name": "stdout",
     "output_type": "stream",
     "text": [
      "18 is not a prime number\n",
      "18 is not a prime number\n",
      "18 is not a prime number\n",
      "18 is not a prime number\n",
      "18 is a prime number\n"
     ]
    }
   ],
   "source": [
    "num = 18\n",
    "\n",
    "for i in range(2, num):\n",
    "    if num%i == 0:\n",
    "        break\n",
    "else:\n",
    "    print(num, \"is a prime number\")"
   ]
  },
  {
   "cell_type": "code",
   "execution_count": 50,
   "id": "c4182a89",
   "metadata": {},
   "outputs": [
    {
     "name": "stdout",
     "output_type": "stream",
     "text": [
      "    * \n",
      "   * * \n",
      "  * * * \n",
      " * * * * \n",
      "* * * * * \n",
      " * * * * \n",
      "  * * * \n",
      "   * * \n",
      "    * \n"
     ]
    }
   ],
   "source": [
    "#print rhombus star pattern\n",
    "rows = 5\n",
    "for i in range(1, rows + 1):\n",
    "    print(' ' * (rows - i) + '* ' * i)\n",
    "for i in range(rows - 1, 0, -1):\n",
    "    print(' ' * (rows - i) + '* ' * i)"
   ]
  },
  {
   "cell_type": "markdown",
   "id": "e32aa63f",
   "metadata": {},
   "source": [
    "## for loop Game"
   ]
  },
  {
   "cell_type": "code",
   "execution_count": null,
   "id": "5b1768d4",
   "metadata": {},
   "outputs": [
    {
     "name": "stdout",
     "output_type": "stream",
     "text": [
      "🔤 Welcome to the 5-Letter Word Guess Game!\n",
      "You have 7 chances to guess letters correctly.\n",
      "\n",
      "Word: _ _ _ _ _\n",
      "Guess #1 of 7\n",
      "❌ That letter is not in the word.\n",
      "\n",
      "Word: _ _ _ _ _\n",
      "Guess #2 of 7\n",
      "❌ That letter is not in the word.\n",
      "\n",
      "Word: _ _ _ _ _\n",
      "Guess #3 of 7\n"
     ]
    },
    {
     "ename": "KeyboardInterrupt",
     "evalue": "Interrupted by user",
     "output_type": "error",
     "traceback": [
      "\u001b[31m---------------------------------------------------------------------------\u001b[39m",
      "\u001b[31mKeyboardInterrupt\u001b[39m                         Traceback (most recent call last)",
      "\u001b[36mCell\u001b[39m\u001b[36m \u001b[39m\u001b[32mIn[55]\u001b[39m\u001b[32m, line 16\u001b[39m\n\u001b[32m     14\u001b[39m \u001b[38;5;28mprint\u001b[39m(\u001b[33m\"\u001b[39m\u001b[33mWord:\u001b[39m\u001b[33m\"\u001b[39m, \u001b[33m\"\u001b[39m\u001b[33m \u001b[39m\u001b[33m\"\u001b[39m.join(display))\n\u001b[32m     15\u001b[39m \u001b[38;5;28mprint\u001b[39m(\u001b[33m\"\u001b[39m\u001b[33mGuess #\u001b[39m\u001b[33m\"\u001b[39m + \u001b[38;5;28mstr\u001b[39m(attempt + \u001b[32m1\u001b[39m) + \u001b[33m\"\u001b[39m\u001b[33m of 7\u001b[39m\u001b[33m\"\u001b[39m)\n\u001b[32m---> \u001b[39m\u001b[32m16\u001b[39m guess = \u001b[38;5;28;43minput\u001b[39;49m\u001b[43m(\u001b[49m\u001b[33;43m\"\u001b[39;49m\u001b[33;43mEnter a letter: \u001b[39;49m\u001b[33;43m\"\u001b[39;49m\u001b[43m)\u001b[49m.lower()\n\u001b[32m     18\u001b[39m found = \u001b[38;5;28;01mFalse\u001b[39;00m\n\u001b[32m     20\u001b[39m \u001b[38;5;28;01mfor\u001b[39;00m i \u001b[38;5;129;01min\u001b[39;00m \u001b[38;5;28mrange\u001b[39m(\u001b[32m5\u001b[39m):\n",
      "\u001b[36mFile \u001b[39m\u001b[32m~/miniconda3/lib/python3.12/site-packages/ipykernel/kernelbase.py:1282\u001b[39m, in \u001b[36mKernel.raw_input\u001b[39m\u001b[34m(self, prompt)\u001b[39m\n\u001b[32m   1280\u001b[39m     msg = \u001b[33m\"\u001b[39m\u001b[33mraw_input was called, but this frontend does not support input requests.\u001b[39m\u001b[33m\"\u001b[39m\n\u001b[32m   1281\u001b[39m     \u001b[38;5;28;01mraise\u001b[39;00m StdinNotImplementedError(msg)\n\u001b[32m-> \u001b[39m\u001b[32m1282\u001b[39m \u001b[38;5;28;01mreturn\u001b[39;00m \u001b[38;5;28;43mself\u001b[39;49m\u001b[43m.\u001b[49m\u001b[43m_input_request\u001b[49m\u001b[43m(\u001b[49m\n\u001b[32m   1283\u001b[39m \u001b[43m    \u001b[49m\u001b[38;5;28;43mstr\u001b[39;49m\u001b[43m(\u001b[49m\u001b[43mprompt\u001b[49m\u001b[43m)\u001b[49m\u001b[43m,\u001b[49m\n\u001b[32m   1284\u001b[39m \u001b[43m    \u001b[49m\u001b[38;5;28;43mself\u001b[39;49m\u001b[43m.\u001b[49m\u001b[43m_parent_ident\u001b[49m\u001b[43m[\u001b[49m\u001b[33;43m\"\u001b[39;49m\u001b[33;43mshell\u001b[39;49m\u001b[33;43m\"\u001b[39;49m\u001b[43m]\u001b[49m\u001b[43m,\u001b[49m\n\u001b[32m   1285\u001b[39m \u001b[43m    \u001b[49m\u001b[38;5;28;43mself\u001b[39;49m\u001b[43m.\u001b[49m\u001b[43mget_parent\u001b[49m\u001b[43m(\u001b[49m\u001b[33;43m\"\u001b[39;49m\u001b[33;43mshell\u001b[39;49m\u001b[33;43m\"\u001b[39;49m\u001b[43m)\u001b[49m\u001b[43m,\u001b[49m\n\u001b[32m   1286\u001b[39m \u001b[43m    \u001b[49m\u001b[43mpassword\u001b[49m\u001b[43m=\u001b[49m\u001b[38;5;28;43;01mFalse\u001b[39;49;00m\u001b[43m,\u001b[49m\n\u001b[32m   1287\u001b[39m \u001b[43m\u001b[49m\u001b[43m)\u001b[49m\n",
      "\u001b[36mFile \u001b[39m\u001b[32m~/miniconda3/lib/python3.12/site-packages/ipykernel/kernelbase.py:1325\u001b[39m, in \u001b[36mKernel._input_request\u001b[39m\u001b[34m(self, prompt, ident, parent, password)\u001b[39m\n\u001b[32m   1322\u001b[39m \u001b[38;5;28;01mexcept\u001b[39;00m \u001b[38;5;167;01mKeyboardInterrupt\u001b[39;00m:\n\u001b[32m   1323\u001b[39m     \u001b[38;5;66;03m# re-raise KeyboardInterrupt, to truncate traceback\u001b[39;00m\n\u001b[32m   1324\u001b[39m     msg = \u001b[33m\"\u001b[39m\u001b[33mInterrupted by user\u001b[39m\u001b[33m\"\u001b[39m\n\u001b[32m-> \u001b[39m\u001b[32m1325\u001b[39m     \u001b[38;5;28;01mraise\u001b[39;00m \u001b[38;5;167;01mKeyboardInterrupt\u001b[39;00m(msg) \u001b[38;5;28;01mfrom\u001b[39;00m\u001b[38;5;250m \u001b[39m\u001b[38;5;28;01mNone\u001b[39;00m\n\u001b[32m   1326\u001b[39m \u001b[38;5;28;01mexcept\u001b[39;00m \u001b[38;5;167;01mException\u001b[39;00m:\n\u001b[32m   1327\u001b[39m     \u001b[38;5;28mself\u001b[39m.log.warning(\u001b[33m\"\u001b[39m\u001b[33mInvalid Message:\u001b[39m\u001b[33m\"\u001b[39m, exc_info=\u001b[38;5;28;01mTrue\u001b[39;00m)\n",
      "\u001b[31mKeyboardInterrupt\u001b[39m: Interrupted by user"
     ]
    }
   ],
   "source": [
    "import random\n",
    "\n",
    "word_list = [\"apple\", \"grape\", \"mango\", \"zebra\", \"plane\", \"chair\", \"table\", \"lemon\", \"bread\", \"brick\"]\n",
    "secret_word = random.choice(word_list)\n",
    "\n",
    "display = []\n",
    "for letter in secret_word:\n",
    "    display.append(\"_\")\n",
    "\n",
    "print(\"🔤 Welcome to the 5-Letter Word Guess Game!\")\n",
    "print(\"You have 7 chances to guess letters correctly.\\n\")\n",
    "\n",
    "attempts = len(secret_word +2)\n",
    "for attempt in range(attempts):\n",
    "    print(\"Word:\", \" \".join(display))\n",
    "    print(\"Guess #\" + str(attempt + 1) + \" of 7\")\n",
    "    guess = input(\"Enter a letter: \").lower()\n",
    "    guess = guess[0]\n",
    "\n",
    "    found = False\n",
    "\n",
    "    for i in range(5):\n",
    "        if secret_word[i] == guess:\n",
    "            display[i] = guess\n",
    "            found = True\n",
    "\n",
    "    if found:\n",
    "        print(\"✅ Nice! You revealed a letter.\\n\")\n",
    "    else:\n",
    "        print(\"❌ That letter is not in the word.\\n\")\n",
    "\n",
    "    if \"_\" not in display:\n",
    "        print(\"🎉 You WON! The word is:\", secret_word)\n",
    "        break\n",
    "\n",
    "else:\n",
    "    print(\"😭 You ran out of guesses. The word was:\", secret_word)"
   ]
  },
  {
   "cell_type": "markdown",
   "id": "91f721e5",
   "metadata": {},
   "source": [
    "## To Try"
   ]
  },
  {
   "cell_type": "markdown",
   "id": "ab794a85",
   "metadata": {},
   "source": [
    "Floyd’s Triangle\n",
    "Print numbers in a triangle, increasing sequentially:"
   ]
  },
  {
   "cell_type": "markdown",
   "id": "e048a6f9",
   "metadata": {},
   "source": [
    "1  \n",
    "2 3  \n",
    "4 5 6  \n",
    "7 8 9 10  \n"
   ]
  },
  {
   "cell_type": "markdown",
   "id": "b8a2572e",
   "metadata": {},
   "source": [
    "### answer"
   ]
  },
  {
   "cell_type": "code",
   "execution_count": null,
   "id": "3fae9637",
   "metadata": {},
   "outputs": [],
   "source": [
    "rows = 5\n",
    "num = 1\n",
    "\n",
    "for i in range(1, rows):\n",
    "    for j in range(i):\n",
    "        print(num, end=' ')\n",
    "        num += 1\n",
    "    print()  # Newline after each row\n"
   ]
  },
  {
   "cell_type": "code",
   "execution_count": 6,
   "id": "8ff9cbf9",
   "metadata": {},
   "outputs": [
    {
     "name": "stdout",
     "output_type": "stream",
     "text": [
      "[]\n"
     ]
    }
   ],
   "source": [
    "print(list(range(1, 5, -1)))"
   ]
  },
  {
   "cell_type": "code",
   "execution_count": 8,
   "id": "b7a14cd5",
   "metadata": {},
   "outputs": [
    {
     "name": "stdout",
     "output_type": "stream",
     "text": [
      "1\n",
      "2\n",
      "4\n",
      "8\n",
      "16\n",
      "32\n",
      "64\n",
      "128\n",
      "256\n",
      "512\n"
     ]
    }
   ],
   "source": [
    "x = 1\n",
    "n = 1000\n",
    "while x < n:\n",
    "    print(x)\n",
    "    x = x * 2"
   ]
  },
  {
   "cell_type": "code",
   "execution_count": null,
   "id": "0e035d5b",
   "metadata": {},
   "outputs": [],
   "source": []
  }
 ],
 "metadata": {
  "kernelspec": {
   "display_name": "base",
   "language": "python",
   "name": "python3"
  },
  "language_info": {
   "codemirror_mode": {
    "name": "ipython",
    "version": 3
   },
   "file_extension": ".py",
   "mimetype": "text/x-python",
   "name": "python",
   "nbconvert_exporter": "python",
   "pygments_lexer": "ipython3",
   "version": "3.12.9"
  }
 },
 "nbformat": 4,
 "nbformat_minor": 5
}
