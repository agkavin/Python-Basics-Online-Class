{
 "cells": [
  {
   "cell_type": "markdown",
   "id": "f359bb1d",
   "metadata": {},
   "source": [
    "# Control Statements in Loops"
   ]
  },
  {
   "cell_type": "markdown",
   "id": "71935561",
   "metadata": {},
   "source": [
    "Control statements modify the loop's execution flow. Python provides three primary control statements: \n",
    "- break\n",
    "- continue\n",
    "- pass"
   ]
  },
  {
   "cell_type": "markdown",
   "id": "409a6523",
   "metadata": {},
   "source": [
    "## Break Statement"
   ]
  },
  {
   "cell_type": "markdown",
   "id": "723d0ab5",
   "metadata": {},
   "source": [
    "The break statement in Python is used to exit or \"break\" out of a loop (either a for or while loop) prematurely, before the loop has iterated through all its items or reached its condition. When the break statement is executed, the program immediately exits the loop, and the control moves to the next line of code after the loop."
   ]
  },
  {
   "cell_type": "markdown",
   "id": "ee6409fc",
   "metadata": {},
   "source": [
    "### Break Statement with for Loop"
   ]
  },
  {
   "cell_type": "code",
   "execution_count": 6,
   "id": "b61d3d71",
   "metadata": {},
   "outputs": [
    {
     "name": "stdout",
     "output_type": "stream",
     "text": [
      "not found\n"
     ]
    }
   ],
   "source": [
    "# Example: Searching for an element in a list\n",
    "\n",
    "a = [1, 3, 5, 7, 9, 11]\n",
    "val = 111\n",
    "\n",
    "for i in a:\n",
    "    if i == val:\n",
    "        print(f\"Found {i}!\")\n",
    "        break\n",
    "else:\n",
    "    print(f\"not found\")"
   ]
  },
  {
   "cell_type": "markdown",
   "id": "f8d1506d",
   "metadata": {},
   "source": [
    "### Break Statement with while Loop"
   ]
  },
  {
   "cell_type": "code",
   "execution_count": 7,
   "id": "a1c977ee",
   "metadata": {},
   "outputs": [
    {
     "name": "stdout",
     "output_type": "stream",
     "text": [
      "5\n",
      "4\n",
      "3\n",
      "2\n",
      "1\n",
      "Countdown finished!\n"
     ]
    }
   ],
   "source": [
    "cnt = 5\n",
    "\n",
    "while True:\n",
    "    print(cnt)\n",
    "    cnt -= 1\n",
    "    if cnt == 0:\n",
    "        print(\"Countdown finished!\")\n",
    "        break  # Exit the loop"
   ]
  },
  {
   "cell_type": "markdown",
   "id": "11d0fdb5",
   "metadata": {},
   "source": [
    "## Continue Statement"
   ]
  },
  {
   "cell_type": "markdown",
   "id": "077ea590",
   "metadata": {},
   "source": [
    "when the continue statement is executed in the loop, the code inside the loop following the continue statement will be skipped for the current iteration and the next iteration of the loop will begin."
   ]
  },
  {
   "cell_type": "markdown",
   "id": "615808a2",
   "metadata": {},
   "source": [
    "### Continue Statement with for Loop"
   ]
  },
  {
   "cell_type": "code",
   "execution_count": 8,
   "id": "2280f755",
   "metadata": {},
   "outputs": [
    {
     "name": "stdout",
     "output_type": "stream",
     "text": [
      "A v n g r s "
     ]
    }
   ],
   "source": [
    "for char in \"Avengers\":\n",
    "    if char == \"e\":\n",
    "        continue\n",
    "    print(char, end=\" \")\n"
   ]
  },
  {
   "cell_type": "markdown",
   "id": "2d097f2e",
   "metadata": {},
   "source": [
    "### Continue Statement with while Loop"
   ]
  },
  {
   "cell_type": "code",
   "execution_count": 15,
   "id": "fa8f81e3",
   "metadata": {},
   "outputs": [
    {
     "name": "stdout",
     "output_type": "stream",
     "text": [
      "0\n",
      "1\n",
      "2\n",
      "3\n",
      "4\n",
      "6\n",
      "7\n",
      "8\n",
      "9\n"
     ]
    }
   ],
   "source": [
    "i = 0\n",
    "while i < 10:\n",
    "    if i == 5:\n",
    "        i += 1  \n",
    "        continue\n",
    "    print(i)\n",
    "    i += 1"
   ]
  },
  {
   "cell_type": "markdown",
   "id": "17550058",
   "metadata": {},
   "source": [
    "## Pass Statement"
   ]
  },
  {
   "cell_type": "markdown",
   "id": "217e5093",
   "metadata": {},
   "source": [
    "Pass statement in Python is a null operation or a placeholder. It is used when a statement is syntactically required but we don't want to execute any code. It does nothing but allows us to maintain the structure of our program."
   ]
  },
  {
   "cell_type": "code",
   "execution_count": 12,
   "id": "1c288738",
   "metadata": {},
   "outputs": [],
   "source": [
    "x = 10\n",
    "\n",
    "if x > 5:\n",
    "    pass  # Placeholder for future logic\n",
    "else:\n",
    "    print(\"x is 5 or less\")"
   ]
  },
  {
   "cell_type": "code",
   "execution_count": 13,
   "id": "931871aa",
   "metadata": {},
   "outputs": [
    {
     "name": "stdout",
     "output_type": "stream",
     "text": [
      "0\n",
      "1\n",
      "2\n",
      "4\n"
     ]
    }
   ],
   "source": [
    "for i in range(5):\n",
    "    if i == 3:\n",
    "        pass  # Do nothing when i is 3\n",
    "    else:\n",
    "        print(i)"
   ]
  },
  {
   "cell_type": "markdown",
   "id": "da0df411",
   "metadata": {},
   "source": [
    "## Magic Number Jump"
   ]
  },
  {
   "cell_type": "code",
   "execution_count": null,
   "id": "a20c811e",
   "metadata": {},
   "outputs": [],
   "source": [
    "import random\n",
    "\n",
    "print(\"🎮 Welcome to the Magic Number Jump Game!\")\n",
    "print(\"Guess a number between 1 and 10.\")\n",
    "print(\"Type 0 to skip your turn. Type -1 to exit the game.\\n\")\n",
    "\n",
    "magic_number = random.randint(1, 10)\n",
    "inactive = False\n",
    "\n",
    "while True:\n",
    "    try:\n",
    "        guess = int(input(\"Enter your guess: \"))\n",
    "    except ValueError:\n",
    "        print(\"That's not a number. Try again.\")\n",
    "        continue\n",
    "\n",
    "    if guess == -1:\n",
    "        print(\"You chose to quit the game. Bye!\")\n",
    "        break\n",
    "\n",
    "    if guess == 0:\n",
    "        print(\"You skipped your turn!\\n\")\n",
    "        inactive = True\n",
    "        continue\n",
    "\n",
    "    if guess < 1 or guess > 10:\n",
    "        print(\"Please guess a number between 1 and 10!\")\n",
    "        continue\n",
    "\n",
    "    if inactive and guess == magic_number:\n",
    "        print(\"Oops! The magic number was inactive this round. Try again!\\n\")\n",
    "        pass\n",
    "        inactive = False\n",
    "        continue\n",
    "\n",
    "    if guess == magic_number:\n",
    "        print(\"🎉 Correct! You found the magic number!\")\n",
    "        break\n",
    "    else:\n",
    "        print(\"❌ Not correct. Try again!\\n\")\n"
   ]
  },
  {
   "cell_type": "code",
   "execution_count": 3,
   "id": "4d590630",
   "metadata": {},
   "outputs": [
    {
     "name": "stdout",
     "output_type": "stream",
     "text": [
      "6\n",
      "4\n",
      "2\n"
     ]
    }
   ],
   "source": [
    "x = 6\n",
    "while x:\n",
    "    print(x)\n",
    "    x -= 2\n"
   ]
  },
  {
   "cell_type": "code",
   "execution_count": null,
   "id": "76d2c161",
   "metadata": {},
   "outputs": [],
   "source": []
  }
 ],
 "metadata": {
  "kernelspec": {
   "display_name": "base",
   "language": "python",
   "name": "python3"
  },
  "language_info": {
   "codemirror_mode": {
    "name": "ipython",
    "version": 3
   },
   "file_extension": ".py",
   "mimetype": "text/x-python",
   "name": "python",
   "nbconvert_exporter": "python",
   "pygments_lexer": "ipython3",
   "version": "3.12.9"
  }
 },
 "nbformat": 4,
 "nbformat_minor": 5
}
