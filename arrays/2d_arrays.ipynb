{
 "cells": [
  {
   "cell_type": "markdown",
   "id": "155d8b44",
   "metadata": {},
   "source": [
    "# 2D Arrays"
   ]
  },
  {
   "cell_type": "markdown",
   "id": "9b6afa74",
   "metadata": {},
   "source": [
    "## Creation of 2D arrays"
   ]
  },
  {
   "cell_type": "code",
   "execution_count": null,
   "id": "b5aa3ed4",
   "metadata": {},
   "outputs": [
    {
     "name": "stdout",
     "output_type": "stream",
     "text": [
      "[[1, 2], [3, 4]]\n"
     ]
    }
   ],
   "source": [
    "# creating array directly\n",
    "array = [[1, 2], [3, 4]]\n",
    "\n",
    "print(array)"
   ]
  },
  {
   "cell_type": "code",
   "execution_count": 3,
   "id": "e91d4a01",
   "metadata": {},
   "outputs": [
    {
     "name": "stdout",
     "output_type": "stream",
     "text": [
      "[[1 2]\n",
      " [3 4]]\n"
     ]
    }
   ],
   "source": [
    "# Using NumPy\n",
    "\n",
    "import numpy as np\n",
    "\n",
    "array = np.array([[1, 2], [3, 4]])\n",
    "\n",
    "print(array)"
   ]
  },
  {
   "cell_type": "code",
   "execution_count": 7,
   "id": "8d9098f8",
   "metadata": {},
   "outputs": [
    {
     "name": "stdout",
     "output_type": "stream",
     "text": [
      "[[0. 0. 0.]\n",
      " [0. 0. 0.]]\n",
      "[[1. 1. 1.]\n",
      " [1. 1. 1.]]\n"
     ]
    }
   ],
   "source": [
    "# Using NumPy to fill zeroes\n",
    "rows = 2\n",
    "cols = 3\n",
    "array = np.zeros((rows, cols))\n",
    "\n",
    "print(array)\n",
    "\n",
    "# Using NumPy to fill ones\n",
    "rows = 2\n",
    "cols = 3\n",
    "array = np.ones((rows, cols))\n",
    "\n",
    "print(array)\n"
   ]
  },
  {
   "cell_type": "code",
   "execution_count": 6,
   "id": "cefeb789",
   "metadata": {},
   "outputs": [
    {
     "name": "stdout",
     "output_type": "stream",
     "text": [
      "[[10 10 10]\n",
      " [10 10 10]]\n"
     ]
    }
   ],
   "source": [
    "# Using NumPy with np.full (for custom initialization)\n",
    "rows = 2\n",
    "cols = 3\n",
    "array = np.full((rows, cols), 10)\n",
    "\n",
    "print(array)"
   ]
  },
  {
   "cell_type": "markdown",
   "id": "cb41c249",
   "metadata": {},
   "source": [
    "## Accessing elements\n",
    "\n",
    "A 2D array is a collection of data elements arranged in rows and columns. Accessing elements involves specifying their row and column indices."
   ]
  },
  {
   "cell_type": "code",
   "execution_count": 8,
   "id": "e5bdcaf2",
   "metadata": {},
   "outputs": [
    {
     "name": "stdout",
     "output_type": "stream",
     "text": [
      "2\n"
     ]
    }
   ],
   "source": [
    "# Using Indexing (Direct Access)\n",
    "\n",
    "arr = [[1, 2], [3, 4]]\n",
    "print(arr[0][1]) "
   ]
  },
  {
   "cell_type": "code",
   "execution_count": 9,
   "id": "dfed3528",
   "metadata": {},
   "outputs": [
    {
     "name": "stdout",
     "output_type": "stream",
     "text": [
      "1 2 \n",
      "3 4 \n"
     ]
    }
   ],
   "source": [
    "# Using Loops (Row and Column Iteration)\n",
    "\n",
    "arr = [[1, 2], [3, 4]]\n",
    "for i in range(len(arr)):\n",
    "    for j in range(len(arr[i])):\n",
    "        print(arr[i][j], end=\" \")\n",
    "    print()"
   ]
  },
  {
   "cell_type": "code",
   "execution_count": 10,
   "id": "2c234271",
   "metadata": {},
   "outputs": [
    {
     "name": "stdout",
     "output_type": "stream",
     "text": [
      "3\n"
     ]
    }
   ],
   "source": [
    "import numpy as np\n",
    "arr_np = np.array([[1, 2], [3, 4]])\n",
    "print(arr_np[1, 0])  "
   ]
  },
  {
   "cell_type": "markdown",
   "id": "d24f35e6",
   "metadata": {},
   "source": [
    "## Modifying elements"
   ]
  },
  {
   "cell_type": "code",
   "execution_count": 11,
   "id": "6a3386d0",
   "metadata": {},
   "outputs": [
    {
     "name": "stdout",
     "output_type": "stream",
     "text": [
      "[[1, 10], [3, 4]]\n"
     ]
    }
   ],
   "source": [
    "# Direct Assignment\n",
    "\n",
    "arr = [[1, 2], [3, 4]]\n",
    "arr[0][1] = 10\n",
    "print(arr)"
   ]
  },
  {
   "cell_type": "code",
   "execution_count": 13,
   "id": "4d15ceed",
   "metadata": {},
   "outputs": [
    {
     "name": "stdout",
     "output_type": "stream",
     "text": [
      "[[1, 4], [9, 16]]\n"
     ]
    }
   ],
   "source": [
    "# using nested loops\n",
    "\n",
    "arr = [[1, 2], [3, 4]]\n",
    "\n",
    "for i in range(len(arr)):\n",
    "    for j in range(len(arr[i])):\n",
    "        arr[i][j] = arr[i][j] ** 2\n",
    "print(arr)"
   ]
  },
  {
   "cell_type": "code",
   "execution_count": 14,
   "id": "6652ca8b",
   "metadata": {},
   "outputs": [
    {
     "name": "stdout",
     "output_type": "stream",
     "text": [
      "[[ 1 10]\n",
      " [ 3  4]]\n"
     ]
    }
   ],
   "source": [
    "# Modifying with NumPy Array\n",
    "\n",
    "import numpy as np\n",
    "\n",
    "arr = np.array([[1, 2], [3, 4]])\n",
    "arr[0, 1] = 10\n",
    "print(arr)"
   ]
  },
  {
   "cell_type": "markdown",
   "id": "f27cb5f7",
   "metadata": {},
   "source": [
    "## Iterating with nested loops"
   ]
  },
  {
   "cell_type": "code",
   "execution_count": 19,
   "id": "6c3bbb1f",
   "metadata": {},
   "outputs": [
    {
     "name": "stdout",
     "output_type": "stream",
     "text": [
      "1 2 \n",
      "3 4 \n"
     ]
    }
   ],
   "source": [
    "# Using range() with indices\n",
    "\n",
    "arr = [[1, 2], [3, 4]]\n",
    "for i in range(len(arr)):\n",
    "    for j in range(len(arr[i])):\n",
    "        print(arr[i][j], end=\" \")\n",
    "    print()"
   ]
  },
  {
   "cell_type": "code",
   "execution_count": null,
   "id": "ce57d416",
   "metadata": {},
   "outputs": [
    {
     "name": "stdout",
     "output_type": "stream",
     "text": [
      "1 2 \n",
      "3 4 \n"
     ]
    }
   ],
   "source": [
    "# using values directly\n",
    "for row in arr:\n",
    "    for val in row:\n",
    "        print(val, end=\" \")\n",
    "    print()"
   ]
  },
  {
   "cell_type": "code",
   "execution_count": 23,
   "id": "a9032221",
   "metadata": {},
   "outputs": [
    {
     "name": "stdout",
     "output_type": "stream",
     "text": [
      "Element at (0,0): 1\n",
      "Element at (0,1): 2\n",
      "Element at (1,0): 3\n",
      "Element at (1,1): 4\n"
     ]
    }
   ],
   "source": [
    "# Using enumerate() to get indices and values\n",
    "\n",
    "arr = [[1, 2], [3, 4]]\n",
    "\n",
    "for i, row in enumerate(arr):\n",
    "    for j, val in enumerate(row):\n",
    "        print(f\"Element at ({i},{j}): {val}\")"
   ]
  },
  {
   "cell_type": "code",
   "execution_count": 24,
   "id": "453d0e81",
   "metadata": {},
   "outputs": [],
   "source": [
    "arr = [[1, 2, 3], [4, 5, 6], [7, 8, 9]]"
   ]
  },
  {
   "cell_type": "code",
   "execution_count": 25,
   "id": "4ea862dd",
   "metadata": {},
   "outputs": [
    {
     "name": "stdout",
     "output_type": "stream",
     "text": [
      "1 2 3 \n",
      "4 5 6 \n",
      "7 8 9 \n"
     ]
    }
   ],
   "source": [
    "# row wise\n",
    "for row in arr:\n",
    "    for val in row:\n",
    "        print(val, end=' ')\n",
    "    print() "
   ]
  },
  {
   "cell_type": "code",
   "execution_count": 26,
   "id": "ec7c9b09",
   "metadata": {},
   "outputs": [
    {
     "name": "stdout",
     "output_type": "stream",
     "text": [
      "1 4 7 \n",
      "2 5 8 \n",
      "3 6 9 \n"
     ]
    }
   ],
   "source": [
    "rows = len(arr)\n",
    "cols = len(arr[0])\n",
    "\n",
    "for col in range(cols):\n",
    "    for row in range(rows):\n",
    "        print(arr[row][col], end=' ')\n",
    "    print()  # new line after each column\n"
   ]
  },
  {
   "cell_type": "code",
   "execution_count": 28,
   "id": "2d9a9cf7",
   "metadata": {},
   "outputs": [
    {
     "name": "stdout",
     "output_type": "stream",
     "text": [
      "Main Diagonal:\n",
      "1 5 9 \n"
     ]
    }
   ],
   "source": [
    "matrix = [\n",
    "    [1, 2, 3],\n",
    "    [4, 5, 6],\n",
    "    [7, 8, 9]\n",
    "]\n",
    "\n",
    "n = len(matrix)\n",
    "\n",
    "# Print main diagonal\n",
    "print(\"Main Diagonal:\")\n",
    "for i in range(n):\n",
    "    print(matrix[i][i], end=' ')\n",
    "print()\n",
    "\n"
   ]
  },
  {
   "cell_type": "markdown",
   "id": "62e0ec07",
   "metadata": {},
   "source": [
    "### ..."
   ]
  },
  {
   "cell_type": "code",
   "execution_count": null,
   "id": "349d2965",
   "metadata": {},
   "outputs": [],
   "source": [
    "# Print off (secondary) diagonal\n",
    "print(\"Off Diagonal:\")\n",
    "for i in range(n):\n",
    "    print(matrix[i][n - 1 - i], end=' ')\n",
    "print()"
   ]
  },
  {
   "cell_type": "markdown",
   "id": "452f7867",
   "metadata": {},
   "source": [
    "## List comprehension"
   ]
  },
  {
   "cell_type": "code",
   "execution_count": 30,
   "id": "2eef1fba",
   "metadata": {},
   "outputs": [
    {
     "name": "stdout",
     "output_type": "stream",
     "text": [
      "[1, 2, 3, 4, 5]\n"
     ]
    }
   ],
   "source": [
    "# 1D list comprehension\n",
    "arr = [i + 1 for i in range(5)]\n",
    "print(arr)"
   ]
  },
  {
   "cell_type": "code",
   "execution_count": null,
   "id": "c18abc3e",
   "metadata": {},
   "outputs": [
    {
     "name": "stdout",
     "output_type": "stream",
     "text": [
      "1\n",
      "2\n",
      "3\n",
      "4\n",
      "5\n"
     ]
    }
   ],
   "source": [
    "arr = [1, 2, 3, 4, 5]\n",
    "l = [print(val) for val in arr]\n",
    "# print(l)"
   ]
  },
  {
   "cell_type": "code",
   "execution_count": 42,
   "id": "f6a8413a",
   "metadata": {},
   "outputs": [
    {
     "name": "stdout",
     "output_type": "stream",
     "text": [
      "[[1, 2, 3], [1, 2, 3], [1, 2, 3]]\n"
     ]
    }
   ],
   "source": [
    "matrix = [[j+1 for j in range(3)] for i in range(3)]\n",
    "print(matrix)"
   ]
  },
  {
   "cell_type": "code",
   "execution_count": null,
   "id": "70163ca1",
   "metadata": {},
   "outputs": [
    {
     "name": "stdout",
     "output_type": "stream",
     "text": [
      "[[1, 2, 3], [4, 5, 6], [7, 8, 9]]\n"
     ]
    }
   ],
   "source": [
    "matrix = [[3 * i + j + 1 for j in range(3)] for i in range(3)]\n",
    "print(matrix)"
   ]
  },
  {
   "cell_type": "code",
   "execution_count": 44,
   "id": "154b0a95",
   "metadata": {},
   "outputs": [
    {
     "name": "stdout",
     "output_type": "stream",
     "text": [
      "1 2 3 4 5\n"
     ]
    }
   ],
   "source": [
    "# interesting way to print\n",
    "arr = [1, 2, 3, 4, 5]\n",
    "\n",
    "print(*arr)"
   ]
  },
  {
   "cell_type": "code",
   "execution_count": 47,
   "id": "e421b4a4",
   "metadata": {},
   "outputs": [
    {
     "name": "stdout",
     "output_type": "stream",
     "text": [
      "[1, 2, 3] [4, 5, 6] [7, 8, 9]\n"
     ]
    }
   ],
   "source": [
    "# interesting way to print\n",
    "matrix = [[1, 2, 3], [4, 5, 6], [7, 8, 9]]\n",
    "\n",
    "\n",
    "print(*matrix)"
   ]
  },
  {
   "cell_type": "markdown",
   "id": "4fc4ccc7",
   "metadata": {},
   "source": [
    "### ..."
   ]
  },
  {
   "cell_type": "code",
   "execution_count": null,
   "id": "196f23b9",
   "metadata": {},
   "outputs": [],
   "source": [
    "def greet(name, age):\n",
    "    print(f\"Hello, {name}! You are {age} years old.\")\n",
    "\n",
    "person = {'name': 'Alice', 'age': 30}\n",
    "\n",
    "greet(**person)\n"
   ]
  },
  {
   "cell_type": "markdown",
   "id": "208b8add",
   "metadata": {},
   "source": [
    "## Slicing"
   ]
  },
  {
   "cell_type": "code",
   "execution_count": 52,
   "id": "b62bc0d2",
   "metadata": {},
   "outputs": [
    {
     "name": "stdout",
     "output_type": "stream",
     "text": [
      "[[1, 2], [4, 5]]\n"
     ]
    }
   ],
   "source": [
    "matrix = [\n",
    "    [1, 2, 3],\n",
    "    [4, 5, 6],\n",
    "    [7, 8, 9]\n",
    "]\n",
    "\n",
    "# Get first 2 rows and first 2 columns\n",
    "submatrix = [row[:2] for row in matrix[:2]]\n",
    "\n",
    "print(submatrix)\n"
   ]
  },
  {
   "cell_type": "markdown",
   "id": "68f9a002",
   "metadata": {},
   "source": [
    "## Numpy Functions"
   ]
  },
  {
   "cell_type": "code",
   "execution_count": 55,
   "id": "f05d3cc4",
   "metadata": {},
   "outputs": [],
   "source": [
    "arr = np.array([[1, 2, 3], [4, 5, 6], [7, 8, 9]])"
   ]
  },
  {
   "cell_type": "code",
   "execution_count": 59,
   "id": "a86c6017",
   "metadata": {},
   "outputs": [
    {
     "name": "stdout",
     "output_type": "stream",
     "text": [
      "[ 6 15 24]\n"
     ]
    }
   ],
   "source": [
    "# Row sum: Sum elements along each row\n",
    "print(np.sum(arr, axis=1))\n"
   ]
  },
  {
   "cell_type": "code",
   "execution_count": 60,
   "id": "f326c48e",
   "metadata": {},
   "outputs": [
    {
     "name": "stdout",
     "output_type": "stream",
     "text": [
      "[12 15 18]\n"
     ]
    }
   ],
   "source": [
    "# Column sum: Sum elements along each column\n",
    "print(np.sum(arr, axis=0))"
   ]
  },
  {
   "cell_type": "code",
   "execution_count": 61,
   "id": "5018202d",
   "metadata": {},
   "outputs": [
    {
     "name": "stdout",
     "output_type": "stream",
     "text": [
      "[[ 6  8]\n",
      " [10 12]]\n"
     ]
    }
   ],
   "source": [
    "# Element-wise addition\n",
    "arr1 = np.array([[1, 2], [3, 4]])\n",
    "arr2 = np.array([[5, 6], [7, 8]])\n",
    "print(arr1 + arr2)  \n",
    "\n"
   ]
  },
  {
   "cell_type": "code",
   "execution_count": 62,
   "id": "56058670",
   "metadata": {},
   "outputs": [
    {
     "name": "stdout",
     "output_type": "stream",
     "text": [
      "[[ 5 12]\n",
      " [21 32]]\n"
     ]
    }
   ],
   "source": [
    "# Element-wise multiplication\n",
    "print(arr1 * arr2)  "
   ]
  },
  {
   "cell_type": "code",
   "execution_count": 63,
   "id": "ff9397ed",
   "metadata": {},
   "outputs": [
    {
     "name": "stdout",
     "output_type": "stream",
     "text": [
      "[[19 22]\n",
      " [43 50]]\n"
     ]
    }
   ],
   "source": [
    "# Matrix multiplication\n",
    "print(arr1.dot(arr2))"
   ]
  },
  {
   "cell_type": "code",
   "execution_count": 65,
   "id": "74fc3c02",
   "metadata": {},
   "outputs": [
    {
     "name": "stdout",
     "output_type": "stream",
     "text": [
      "[[1 4 7]\n",
      " [2 5 8]\n",
      " [3 6 9]]\n"
     ]
    }
   ],
   "source": [
    "# Transpose\n",
    "arr1 = np.array([[1, 2, 3], [4, 5, 6], [7, 8, 9]])\n",
    "print(np.transpose(arr1))"
   ]
  },
  {
   "cell_type": "code",
   "execution_count": null,
   "id": "40160a78",
   "metadata": {},
   "outputs": [],
   "source": []
  }
 ],
 "metadata": {
  "kernelspec": {
   "display_name": "base",
   "language": "python",
   "name": "python3"
  },
  "language_info": {
   "codemirror_mode": {
    "name": "ipython",
    "version": 3
   },
   "file_extension": ".py",
   "mimetype": "text/x-python",
   "name": "python",
   "nbconvert_exporter": "python",
   "pygments_lexer": "ipython3",
   "version": "3.12.9"
  }
 },
 "nbformat": 4,
 "nbformat_minor": 5
}
