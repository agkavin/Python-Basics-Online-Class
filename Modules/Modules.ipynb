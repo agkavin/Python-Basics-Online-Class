{
 "cells": [
  {
   "cell_type": "markdown",
   "id": "86699ce5",
   "metadata": {},
   "source": [
    "## 🧩 1. What Are Modules?\n",
    "\n",
    "### ✅ Definition:\n",
    "\n",
    "A **module** in Python is simply a file containing Python code (functions, classes, or variables) that can be reused in other Python programs.\n",
    "\n",
    "### ✅ Why Use Modules?\n",
    "\n",
    "* 🔁 **Code Reusability**: Write once, use anywhere.\n",
    "* 🧹 **Organization**: Split large programs into smaller, manageable parts.\n",
    "* 🔧 **Maintainability**: Easy to update and debug.\n"
   ]
  },
  {
   "cell_type": "markdown",
   "id": "8b4c22fc",
   "metadata": {},
   "source": [
    "## Four type of Modules in python\n",
    "\n",
    "- Built-in Modules\n",
    "- Standard Library Modules\n",
    "- Third-party Modules\n",
    "- User-defined Modules"
   ]
  },
  {
   "cell_type": "markdown",
   "id": "d0dc2ffe",
   "metadata": {},
   "source": [
    "## Built-in Modules"
   ]
  },
  {
   "cell_type": "markdown",
   "id": "12e29279",
   "metadata": {},
   "source": [
    "Modules that come bundled with Python and are ready to use without installation.\n"
   ]
  },
  {
   "cell_type": "code",
   "execution_count": null,
   "id": "28785d47",
   "metadata": {},
   "outputs": [],
   "source": [
    "import math\n",
    "\n",
    "radius = 5\n",
    "area = math.pi * math.pow(radius, 2)\n",
    "print(\"Area of Circle:\", area)"
   ]
  },
  {
   "cell_type": "code",
   "execution_count": null,
   "id": "6f68c9f9",
   "metadata": {},
   "outputs": [],
   "source": [
    "import random\n",
    "lucky_number = random.randint(1, 100)\n",
    "print(\"Your lucky number is:\", lucky_number)"
   ]
  },
  {
   "cell_type": "code",
   "execution_count": null,
   "id": "8f5ef2f2",
   "metadata": {},
   "outputs": [],
   "source": [
    "import datetime\n",
    "\n",
    "now = datetime.datetime.now()\n",
    "print(\"Current date and time:\", now)"
   ]
  },
  {
   "cell_type": "markdown",
   "id": "7d068f57",
   "metadata": {},
   "source": [
    "### collections"
   ]
  },
  {
   "cell_type": "code",
   "execution_count": null,
   "id": "ba1955e6",
   "metadata": {},
   "outputs": [],
   "source": [
    "from collections import Counter\n",
    "\n",
    "fruits = ['apple', 'banana', 'apple', 'cherry']\n",
    "print(\"Fruit count:\", Counter(fruits))"
   ]
  },
  {
   "cell_type": "markdown",
   "id": "482df9c0",
   "metadata": {},
   "source": [
    "### OS"
   ]
  },
  {
   "cell_type": "code",
   "execution_count": null,
   "id": "c4cdc7c1",
   "metadata": {},
   "outputs": [],
   "source": [
    "import os\n",
    "print(\"Current working directory:\", os.getcwd())\n"
   ]
  },
  {
   "cell_type": "markdown",
   "id": "e96fd17e",
   "metadata": {},
   "source": [
    "##  Third-party Modules"
   ]
  },
  {
   "cell_type": "markdown",
   "id": "39fd7748",
   "metadata": {},
   "source": [
    "### requests (after installing via pip install requests)"
   ]
  },
  {
   "cell_type": "code",
   "execution_count": null,
   "id": "62ce9f42",
   "metadata": {},
   "outputs": [],
   "source": [
    "import requests\n",
    "\n",
    "response = requests.get(\"https://google.com/\")\n",
    "print(\"Status Code:\", response.status_code)\n"
   ]
  },
  {
   "cell_type": "markdown",
   "id": "a30222ee",
   "metadata": {},
   "source": [
    "### numpy"
   ]
  },
  {
   "cell_type": "code",
   "execution_count": null,
   "id": "05a4ad67",
   "metadata": {},
   "outputs": [],
   "source": [
    "import numpy as np\n",
    "\n",
    "arr = np.array([1, 2, 3])\n",
    "print(\"Numpy array:\", arr)"
   ]
  },
  {
   "cell_type": "markdown",
   "id": "32742563",
   "metadata": {},
   "source": [
    "## User-defined Modules"
   ]
  },
  {
   "cell_type": "markdown",
   "id": "63fb2dc8",
   "metadata": {},
   "source": [
    " Custom .py files you create to reuse your own functions or classes."
   ]
  },
  {
   "cell_type": "code",
   "execution_count": null,
   "id": "664e8cb8",
   "metadata": {},
   "outputs": [],
   "source": [
    "import grader_user_module as grader\n",
    "\n",
    "score = int(input(\"Enter your score: \"))\n",
    "print(\"Grade:\", grader.get_grade(score))\n"
   ]
  },
  {
   "cell_type": "markdown",
   "id": "717bc1b7",
   "metadata": {},
   "source": [
    "## Ways to Import Modules"
   ]
  },
  {
   "cell_type": "markdown",
   "id": "7671c1bb",
   "metadata": {},
   "source": [
    "### import module_name"
   ]
  },
  {
   "cell_type": "code",
   "execution_count": null,
   "id": "a0bd696c",
   "metadata": {},
   "outputs": [],
   "source": [
    "import math\n",
    "\n",
    "print(\"Square root of 16:\", math.sqrt(16))\n"
   ]
  },
  {
   "cell_type": "markdown",
   "id": "311d239a",
   "metadata": {},
   "source": [
    "### from module_name import function_name"
   ]
  },
  {
   "cell_type": "code",
   "execution_count": null,
   "id": "fb72aa84",
   "metadata": {},
   "outputs": [],
   "source": [
    "print()"
   ]
  },
  {
   "cell_type": "code",
   "execution_count": 5,
   "id": "57c5337b",
   "metadata": {},
   "outputs": [
    {
     "name": "stdout",
     "output_type": "stream",
     "text": [
      "2.0\n",
      "3\n"
     ]
    }
   ],
   "source": [
    "a = 1\n",
    "b = 2\n",
    "\n",
    "print(b/a)\n",
    "print(b+a)"
   ]
  },
  {
   "cell_type": "code",
   "execution_count": 1,
   "id": "7c046ea7",
   "metadata": {},
   "outputs": [
    {
     "name": "stdout",
     "output_type": "stream",
     "text": [
      "Random number: 8\n",
      "Random choice: banana\n"
     ]
    }
   ],
   "source": [
    "from random import randint, choice\n",
    "\n",
    "print(\"Random number:\", randint(1, 10))\n",
    "print(\"Random choice:\", choice([\"apple\", \"banana\", \"cherry\"]))\n"
   ]
  },
  {
   "cell_type": "markdown",
   "id": "143dcd2c",
   "metadata": {},
   "source": [
    "### import module_name as alias"
   ]
  },
  {
   "cell_type": "code",
   "execution_count": 9,
   "id": "f1b0e4f5",
   "metadata": {},
   "outputs": [
    {
     "name": "stdout",
     "output_type": "stream",
     "text": [
      "Numpy array: [1 2 3]\n"
     ]
    }
   ],
   "source": [
    "import numpy as np\n",
    "\n",
    "arr = np.array([1, 2, 3])\n",
    "print(\"Numpy array:\", arr)\n"
   ]
  },
  {
   "cell_type": "markdown",
   "id": "423646b8",
   "metadata": {},
   "source": [
    "### from module_name import *"
   ]
  },
  {
   "cell_type": "code",
   "execution_count": 10,
   "id": "fd4cf056",
   "metadata": {},
   "outputs": [
    {
     "name": "stdout",
     "output_type": "stream",
     "text": [
      "Cosine of 0: 1.0\n",
      "Value of pi: 3.141592653589793\n"
     ]
    }
   ],
   "source": [
    "from math import *\n",
    "\n",
    "print(\"Cosine of 0:\", cos(0))\n",
    "print(\"Value of pi:\", pi)"
   ]
  },
  {
   "cell_type": "markdown",
   "id": "0993918a",
   "metadata": {},
   "source": [
    "## User Defined Module"
   ]
  },
  {
   "cell_type": "code",
   "execution_count": null,
   "id": "cfa45618",
   "metadata": {},
   "outputs": [],
   "source": [
    "import myutils\n",
    "\n",
    "test_data = [\n",
    "    (\"abc@gmail.com\", \"pass1234\"),      # ✅ Valid email and strong password\n",
    "    (\"invalid_email\", \"password\"),      # ❌ Invalid email, ❌ Weak password (no digits)\n",
    "    (\"user@domain.org\", \"12345678\"),    # ✅ Valid email, ❌ Weak password (no letters)\n",
    "]\n",
    "\n",
    "\n",
    "for email, password in test_data:\n",
    "    print(f\"Testing Email: {email}\")\n",
    "    print(\"Valid Email:\", myutils.is_valid_email(email))\n",
    "\n",
    "    print(f\"Testing Password: {password}\")\n",
    "    print(\"Strong Password:\", myutils.is_strong_password(password))\n",
    "    print(\"-\" * 40)\n"
   ]
  },
  {
   "cell_type": "code",
   "execution_count": null,
   "id": "ca962e39",
   "metadata": {},
   "outputs": [],
   "source": [
    "from validator import validate\n",
    "\n",
    "test_data = [\n",
    "    (\"abc@gmail.com\", \"pass1234\"),      # ✅ Valid email and strong password\n",
    "    (\"invalid_email\", \"password\"),      # ❌ Invalid email, ❌ Weak password (no digits)\n",
    "    (\"user@domain.org\", \"12345678\"),    # ✅ Valid email, ❌ Weak password (no letters)\n",
    "]\n",
    "\n",
    "\n",
    "for email, password in test_data:\n",
    "    print(f\"Testing Email: {email}\")\n",
    "    print(\"Valid Email:\", validate.is_valid_email(email))\n",
    "\n",
    "    print(f\"Testing Password: {password}\")\n",
    "    print(\"Strong Password:\", validate.is_strong_password(password))\n",
    "    print(\"-\" * 40)\n"
   ]
  }
 ],
 "metadata": {
  "kernelspec": {
   "display_name": "base",
   "language": "python",
   "name": "python3"
  },
  "language_info": {
   "codemirror_mode": {
    "name": "ipython",
    "version": 3
   },
   "file_extension": ".py",
   "mimetype": "text/x-python",
   "name": "python",
   "nbconvert_exporter": "python",
   "pygments_lexer": "ipython3",
   "version": "3.12.2"
  }
 },
 "nbformat": 4,
 "nbformat_minor": 5
}
